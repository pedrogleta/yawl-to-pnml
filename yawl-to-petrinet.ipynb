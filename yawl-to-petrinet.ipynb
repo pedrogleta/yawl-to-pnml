{
 "cells": [
  {
   "cell_type": "code",
   "execution_count": 1,
   "metadata": {},
   "outputs": [],
   "source": [
    "from pm4py.objects.log.importer.xes import importer as xes_importer\n",
    "from pm4py.objects.petri.importer import importer as pnml_importer\n",
    "from pm4py.objects.petri.exporter import exporter as pnml_exporter\n",
    "from pm4py.algo.discovery.alpha import algorithm as alpha_miner\n",
    "from pm4py.visualization.petrinet import visualizer as pn_visualizer\n",
    "\n",
    "import xml.etree.ElementTree as ET\n",
    "from xml.etree.ElementTree import ElementTree, tostring\n",
    "import os\n",
    "#os.environ[\"PATH\"] += os.pathsep + 'C:/Program Files (x86)/Graphviz2.38/bin'"
   ]
  },
  {
   "cell_type": "code",
   "execution_count": 2,
   "metadata": {},
   "outputs": [],
   "source": [
    "xmlns = '{http://www.yawlfoundation.org/yawlschema}'\n",
    "\n",
    "class Yawl:\n",
    "    def __init__(self, file):\n",
    "        self.root = ET.parse(file).getroot()\n",
    "        self.specification = self.root.find(xmlns + 'specification')\n",
    "        self.layout = self.root.find(xmlns + 'layout')\n",
    "        \n",
    "        self.decomposition = self.specification.find(xmlns + 'decomposition')\n",
    "        \n",
    "        self.conditions = self.decomposition[0].findall(xmlns + 'condition')\n",
    "        self.tasks = self.decomposition[0].findall(xmlns + 'task')\n",
    "        self.inputCondition = self.decomposition[0].find(xmlns + 'inputCondition')\n",
    "        self.outputConditions = self.decomposition[0].findall(xmlns + 'outputCondition')\n",
    "        \n",
    "        self.allElements = self.conditions + self.tasks + [self.inputCondition] + self.outputConditions\n",
    "        \n",
    "        \n",
    "    \n",
    "yawl = Yawl('credit-card-demo.yawl')"
   ]
  },
  {
   "cell_type": "code",
   "execution_count": 3,
   "metadata": {},
   "outputs": [],
   "source": [
    "#place {id: string, initialMarking: boolean}\n",
    "#transition {id: string, targets: string[], sources: string[]}\n",
    "#arc {id: string, source: string, target: string}\n",
    "\n",
    "class Pnml:\n",
    "    def __init__(self, places, transitions, arcs):\n",
    "        self.root = ET.Element('pnml')\n",
    "        \n",
    "        self.net = ET.SubElement(self.root, 'net')\n",
    "        self.net.set('id', 'net1')\n",
    "        self.net.set('type', 'http://www.pnml.org/version-2009/grammar/pnmlcoremodel')\n",
    "        \n",
    "        self.page = ET.SubElement(self.net, 'page')\n",
    "        self.page.set('id', 'n0')\n",
    "        \n",
    "        for place in places:\n",
    "            placeElement = ET.SubElement(self.page, 'place')\n",
    "            placeElement.set('id', place['id'])\n",
    "            placeElementName = ET.SubElement(placeElement, 'name')\n",
    "            placeElementNameText = ET.SubElement(placeElementName, 'text')\n",
    "            placeElementNameText.text = place['id']\n",
    "            \n",
    "            if place['initialMarking']:\n",
    "                initialMarking = ET.SubElement(placeElement, 'initialMarking')\n",
    "                initialMarkingText = ET.SubElement(initialMarking, 'text')\n",
    "                initialMarkingText.text = '1'\n",
    "                \n",
    "        for transition in transitions:\n",
    "            transitionElement = ET.SubElement(self.page, 'transition')\n",
    "            transitionElement.set('id', transition['id'])\n",
    "            transitionElementName = ET.SubElement(transitionElement, 'name')\n",
    "            transitionElementNameText = ET.SubElement(transitionElementName, 'text')\n",
    "            transitionElementNameText.text = transition['id']\n",
    "            \n",
    "        for arc in arcs:\n",
    "            arcElement = ET.SubElement(self.page, 'arc')\n",
    "            arcElement.set('id', arc['id'])\n",
    "            arcElement.set('source', arc['source'])\n",
    "            arcElement.set('target', arc['target'])\n",
    "            \n",
    "            \n",
    "    def writePnml(self, filePath):\n",
    "        fileBytes = tostring(self.root)\n",
    "        file = open(filePath, 'wb')\n",
    "        file.write(fileBytes)\n",
    "        file.close()\n",
    "            "
   ]
  },
  {
   "cell_type": "code",
   "execution_count": 30,
   "metadata": {},
   "outputs": [],
   "source": [
    "places = []\n",
    "transitions = []\n",
    "arcs = []\n",
    "\n",
    "yawl = Yawl('credit-card-demo.yawl')\n",
    "\n",
    "#Create all conditions and task's places\n",
    "conditionID = yawl.inputCondition.attrib['id']\n",
    "\n",
    "places.append({'id': 'place_' + conditionID, 'initialMarking': True})\n",
    "transitions.append({'id': conditionID, 'sources': [], 'targets': []})\n",
    "arcs.append({'id': '0', 'source': 'place_' + conditionID, 'target': conditionID})\n",
    "\n",
    "i = 1\n",
    "for condition in yawl.conditions:\n",
    "    conditionID = condition.attrib['id']\n",
    "\n",
    "    places.append({'id': 'place_' + conditionID, 'initialMarking': False})\n",
    "    transitions.append({'id': conditionID, 'sources': [], 'targets': []})\n",
    "    arcs.append({'id': str(i), 'source': 'place_' + conditionID, 'target': conditionID})\n",
    "    \n",
    "    i += 1\n",
    "    \n",
    "for task in yawl.tasks:\n",
    "    taskID = task.attrib['id']\n",
    "    places.append({'id': 'place_' + taskID, 'initialMarking': False})\n",
    "    transitions.append({'id': taskID, 'sources': [], 'targets': []})\n",
    "    arcs.append({'id': str(i), 'source': 'place_' + taskID, 'target': taskID})\n",
    "    \n",
    "    i += 1\n",
    "\n",
    "for outputCondition in yawl.outputConditions:\n",
    "    conditionID = outputCondition.attrib['id']\n",
    "\n",
    "    places.append({'id': 'place_' + conditionID, 'initialMarking': False})\n",
    "\n",
    "#Connect Arcs\n",
    "#Get targets and sources\n",
    "for transition in transitions:\n",
    "    #Get transition's targets\n",
    "    for element in yawl.allElements:\n",
    "        if element.attrib['id'] == transition['id']:\n",
    "            break\n",
    "    elementFlowsIntos = element.findall(xmlns + 'flowsInto')\n",
    "    for elementFlowsInto in elementFlowsIntos:\n",
    "        nextElementRef = elementFlowsInto.find(xmlns + 'nextElementRef')\n",
    "        transition['targets'].append(nextElementRef.attrib['id'])\n",
    "\n",
    "    #Get transition's sources\n",
    "    for element in yawl.allElements:\n",
    "        elementFlowsIntos = element.findall(xmlns + 'flowsInto')\n",
    "        for elementFlowsInto in elementFlowsIntos:\n",
    "            nextElementRef = elementFlowsInto.find(xmlns + 'nextElementRef')\n",
    "            if nextElementRef.attrib['id'] == transition['id']:\n",
    "                transition['sources'].append(element.attrib['id'])\n",
    "\n",
    "\n",
    "# for transition in transitions:\n",
    "#     transitionID = transition['id']\n",
    "    \n",
    "#     for element in yawl.allElements:\n",
    "#         if element.attrib['id'] == transitionID:\n",
    "#             break\n",
    "            \n",
    "#     placeIDs = []\n",
    "    \n",
    "#     flowsIntos = element.findall(xmlns + 'flowsInto')\n",
    "#     for flowsInto in flowsIntos:\n",
    "#         placeIDs.append('place_' + flowsInto.find(xmlns + 'nextElementRef').attrib['id'])\n",
    "        \n",
    "        \n",
    "#     for placeID in placeIDs:\n",
    "#         arcs.append({'id': str(i), 'source': transitionID, 'target': placeID})\n",
    "#         i += 1\n",
    "        \n",
    "\n",
    "pnml = Pnml(places, transitions, arcs)\n",
    "pnml.writePnml('credit-card-demo.xml')\n",
    "\n",
    "net, initial_marking, final_marking = pnml_importer.apply('yawl.pnml')\n",
    "gviz = pn_visualizer.apply(net, initial_marking, final_marking)\n",
    "#pn_visualizer.view(gviz)"
   ]
  },
  {
   "cell_type": "code",
   "execution_count": 31,
   "metadata": {
    "tags": []
   },
   "outputs": [
    {
     "output_type": "execute_result",
     "data": {
      "text/plain": "[{'id': 'InputCondition', 'sources': [], 'targets': ['Receive_application']},\n {'id': 'C',\n  'sources': ['Receive_application'],\n  'targets': ['Cancel', 'Hold']},\n {'id': 'Receive_application',\n  'sources': ['InputCondition'],\n  'targets': ['C', 'Check_completeness']},\n {'id': 'Cancel', 'sources': ['C'], 'targets': ['OutputCondition']},\n {'id': 'Check_completeness',\n  'sources': ['Receive_application'],\n  'targets': ['Check_document', 'Check_credit_Bureau']},\n {'id': 'Hold', 'sources': ['C'], 'targets': ['OutputCondition']},\n {'id': 'Check_credit_Bureau',\n  'sources': ['Check_completeness'],\n  'targets': ['Collect_results']},\n {'id': 'Check_document',\n  'sources': ['Check_completeness'],\n  'targets': ['Collect_results']},\n {'id': 'Collect_results',\n  'sources': ['Check_credit_Bureau', 'Check_document'],\n  'targets': ['Make_decision']},\n {'id': 'Make_decision',\n  'sources': ['Collect_results'],\n  'targets': ['Reject', 'Approve']},\n {'id': 'Approve',\n  'sources': ['Make_decision'],\n  'targets': ['Want_extra_package']},\n {'id': 'Reject',\n  'sources': ['Make_decision'],\n  'targets': ['OutputCondition']},\n {'id': 'Want_extra_package',\n  'sources': ['Approve'],\n  'targets': ['Start_features']},\n {'id': 'Start_features',\n  'sources': ['Want_extra_package'],\n  'targets': ['Secondary_cardholders', 'Reward_program']},\n {'id': 'Reward_program',\n  'sources': ['Start_features'],\n  'targets': ['Complete_features']},\n {'id': 'Secondary_cardholders',\n  'sources': ['Start_features'],\n  'targets': ['Complete_features']},\n {'id': 'Complete_features',\n  'sources': ['Reward_program', 'Secondary_cardholders'],\n  'targets': ['Deliver_credit_card']},\n {'id': 'Deliver_credit_card',\n  'sources': ['Complete_features'],\n  'targets': ['OutputCondition']}]"
     },
     "metadata": {},
     "execution_count": 31
    }
   ],
   "source": [
    "transitions"
   ]
  },
  {
   "cell_type": "code",
   "execution_count": 64,
   "metadata": {},
   "outputs": [],
   "source": [
    "places = [{'id': 'start', 'initialMarking': True}, {'id': 'end', 'initialMarking': False}]\n",
    "transitions = [{\"id\": 'transicao'}]\n",
    "arcs = [{'id': '1', 'source': 'start', 'target': 'transicao'}, {'id':'2', 'source': 'transicao', 'target': 'end'}]\n",
    "\n",
    "pnml = Pnml(places, transitions, arcs)\n",
    "pnml.writePnml('petri.pnml')"
   ]
  },
  {
   "cell_type": "code",
   "execution_count": null,
   "metadata": {},
   "outputs": [],
   "source": []
  },
  {
   "cell_type": "code",
   "execution_count": 70,
   "metadata": {},
   "outputs": [
    {
     "data": {
      "application/vnd.jupyter.widget-view+json": {
       "model_id": "d0c48d048e2c4a5db7249211bf4961e1",
       "version_major": 2,
       "version_minor": 0
      },
      "text/plain": [
       "HBox(children=(FloatProgress(value=0.0, description='parsing log, completed traces :: ', max=6.0, style=Progre…"
      ]
     },
     "metadata": {},
     "output_type": "display_data"
    },
    {
     "name": "stdout",
     "output_type": "stream",
     "text": [
      "\n"
     ]
    }
   ],
   "source": [
    "log = xes_importer.apply('running-example.xes')\n",
    "net, initial_marking, final_marking = alpha_miner.apply(log)\n",
    "pnml_exporter.apply(net, initial_marking, \"running-example.pnml\")"
   ]
  },
  {
   "cell_type": "code",
   "execution_count": null,
   "metadata": {},
   "outputs": [],
   "source": []
  },
  {
   "cell_type": "code",
   "execution_count": 61,
   "metadata": {},
   "outputs": [
    {
     "data": {
      "image/png": "[encoded data removed]",
      "text/plain": [
       "<IPython.core.display.Image object>"
      ]
     },
     "metadata": {},
     "output_type": "display_data"
    }
   ],
   "source": [
    "gviz = pn_visualizer.apply(net, initial_marking, final_marking)\n",
    "pn_visualizer.view(gviz)"
   ]
  },
  {
   "cell_type": "code",
   "execution_count": 60,
   "metadata": {},
   "outputs": [],
   "source": [
    "net, initial_marking, final_marking = pnml_importer.apply('petri.pnml')"
   ]
  },
  {
   "cell_type": "code",
   "execution_count": 63,
   "metadata": {},
   "outputs": [],
   "source": [
    "pnml_exporter.apply(net, initial_marking, \"petri.pnml\")"
   ]
  }
 ],
 "metadata": {
  "kernelspec": {
   "display_name": "Python 3",
   "language": "python",
   "name": "python3"
  },
  "language_info": {
   "codemirror_mode": {
    "name": "ipython",
    "version": 3
   },
   "file_extension": ".py",
   "mimetype": "text/x-python",
   "name": "python",
   "nbconvert_exporter": "python",
   "pygments_lexer": "ipython3",
   "version": "3.8.3-final"
  }
 },
 "nbformat": 4,
 "nbformat_minor": 4
}