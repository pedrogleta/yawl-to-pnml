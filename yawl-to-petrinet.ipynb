{
 "cells": [
  {
   "cell_type": "code",
   "execution_count": 2,
   "metadata": {},
   "outputs": [],
   "source": [
    "from pm4py.objects.log.importer.xes import importer as xes_importer\n",
    "from pm4py.objects.petri.importer import importer as pnml_importer\n",
    "from pm4py.objects.petri.exporter import exporter as pnml_exporter\n",
    "from pm4py.algo.discovery.alpha import algorithm as alpha_miner\n",
    "from pm4py.visualization.petrinet import visualizer as pn_visualizer\n",
    "\n",
    "import xml.etree.ElementTree as ET\n",
    "from xml.etree.ElementTree import ElementTree, tostring\n",
    "import os\n",
    "#os.environ[\"PATH\"] += os.pathsep + 'C:/Program Files (x86)/Graphviz2.38/bin'"
   ]
  },
  {
   "cell_type": "code",
   "execution_count": 3,
   "metadata": {},
   "outputs": [],
   "source": [
    "xmlns = '{http://www.yawlfoundation.org/yawlschema}'\n",
    "\n",
    "class Yawl:\n",
    "    def __init__(self, file):\n",
    "        self.root = ET.parse(file).getroot()\n",
    "        self.specification = self.root.find(xmlns + 'specification')\n",
    "        self.layout = self.root.find(xmlns + 'layout')\n",
    "        \n",
    "        self.decomposition = self.specification.find(xmlns + 'decomposition')\n",
    "        \n",
    "        self.conditions = self.decomposition[0].findall(xmlns + 'condition')\n",
    "        self.tasks = self.decomposition[0].findall(xmlns + 'task')\n",
    "        self.inputCondition = self.decomposition[0].find(xmlns + 'inputCondition')\n",
    "        self.outputConditions = self.decomposition[0].findall(xmlns + 'outputCondition')\n",
    "        \n",
    "        self.allElements = self.conditions + self.tasks + [self.inputCondition] + self.outputConditions\n",
    "        \n",
    "        \n",
    "    \n",
    "yawl = Yawl('credit-card-demo.yawl')"
   ]
  },
  {
   "cell_type": "code",
   "execution_count": 4,
   "metadata": {},
   "outputs": [],
   "source": [
    "#place {id: string, initialMarking: boolean}\n",
    "#transition {id: string, targets: string[], sources: string[], split: string, join: string}\n",
    "#arc {id: string, source: string, target: string}\n",
    "\n",
    "class Pnml:\n",
    "    def __init__(self, places, transitions, arcs):\n",
    "        self.root = ET.Element('pnml')\n",
    "        \n",
    "        self.net = ET.SubElement(self.root, 'net')\n",
    "        self.net.set('id', 'net1')\n",
    "        self.net.set('type', 'http://www.pnml.org/version-2009/grammar/pnmlcoremodel')\n",
    "        \n",
    "        self.page = ET.SubElement(self.net, 'page')\n",
    "        self.page.set('id', 'n0')\n",
    "        \n",
    "        for place in places:\n",
    "            placeElement = ET.SubElement(self.page, 'place')\n",
    "            placeElement.set('id', place['id'])\n",
    "            placeElementName = ET.SubElement(placeElement, 'name')\n",
    "            placeElementNameText = ET.SubElement(placeElementName, 'text')\n",
    "            placeElementNameText.text = place['id']\n",
    "            \n",
    "            if place['initialMarking']:\n",
    "                initialMarking = ET.SubElement(placeElement, 'initialMarking')\n",
    "                initialMarkingText = ET.SubElement(initialMarking, 'text')\n",
    "                initialMarkingText.text = '1'\n",
    "                \n",
    "        for transition in transitions:\n",
    "            transitionElement = ET.SubElement(self.page, 'transition')\n",
    "            transitionElement.set('id', transition['id'])\n",
    "            transitionElementName = ET.SubElement(transitionElement, 'name')\n",
    "            transitionElementNameText = ET.SubElement(transitionElementName, 'text')\n",
    "            transitionElementNameText.text = transition['id']\n",
    "            \n",
    "        for arc in arcs:\n",
    "            arcElement = ET.SubElement(self.page, 'arc')\n",
    "            arcElement.set('id', arc['id'])\n",
    "            arcElement.set('source', arc['source'])\n",
    "            arcElement.set('target', arc['target'])\n",
    "            \n",
    "            \n",
    "    def writePnml(self, filePath):\n",
    "        fileBytes = tostring(self.root)\n",
    "        file = open(filePath, 'wb')\n",
    "        file.write(fileBytes)\n",
    "        file.close()\n",
    "            "
   ]
  },
  {
   "cell_type": "code",
   "execution_count": 7,
   "metadata": {
    "tags": []
   },
   "outputs": [
    {
     "output_type": "error",
     "ename": "KeyError",
     "evalue": "'sources'",
     "traceback": [
      "\u001b[0;31m---------------------------------------------------------------------------\u001b[0m",
      "\u001b[0;31mKeyError\u001b[0m                                  Traceback (most recent call last)",
      "\u001b[0;32m<ipython-input-7-96319edbd164>\u001b[0m in \u001b[0;36m<module>\u001b[0;34m\u001b[0m\n\u001b[1;32m    151\u001b[0m        \u001b[0mtransitions\u001b[0m\u001b[0;34m.\u001b[0m\u001b[0mremove\u001b[0m\u001b[0;34m(\u001b[0m\u001b[0mtransition\u001b[0m\u001b[0;34m)\u001b[0m\u001b[0;34m\u001b[0m\u001b[0;34m\u001b[0m\u001b[0m\n\u001b[1;32m    152\u001b[0m \u001b[0;32mfor\u001b[0m \u001b[0marc\u001b[0m \u001b[0;32min\u001b[0m \u001b[0marcs\u001b[0m\u001b[0;34m:\u001b[0m\u001b[0;34m\u001b[0m\u001b[0;34m\u001b[0m\u001b[0m\n\u001b[0;32m--> 153\u001b[0;31m     \u001b[0;32mif\u001b[0m \u001b[0;34m'InputCondition'\u001b[0m \u001b[0;32min\u001b[0m \u001b[0marc\u001b[0m\u001b[0;34m[\u001b[0m\u001b[0;34m'sources'\u001b[0m\u001b[0;34m]\u001b[0m\u001b[0;34m:\u001b[0m\u001b[0;34m\u001b[0m\u001b[0;34m\u001b[0m\u001b[0m\n\u001b[0m\u001b[1;32m    154\u001b[0m         \u001b[0marcs\u001b[0m\u001b[0;34m.\u001b[0m\u001b[0mremove\u001b[0m\u001b[0;34m(\u001b[0m\u001b[0marc\u001b[0m\u001b[0;34m)\u001b[0m\u001b[0;34m\u001b[0m\u001b[0;34m\u001b[0m\u001b[0m\n\u001b[1;32m    155\u001b[0m \u001b[0;34m\u001b[0m\u001b[0m\n",
      "\u001b[0;31mKeyError\u001b[0m: 'sources'"
     ]
    }
   ],
   "source": [
    "places = []\n",
    "transitions = []\n",
    "arcs = []\n",
    "\n",
    "yawl = Yawl('credit-card-demo.yawl')\n",
    "\n",
    "i = 0\n",
    "#Create all conditions and task's places\n",
    "conditionID = yawl.inputCondition.attrib['id']\n",
    "\n",
    "places.append({'id': 'place_' + conditionID, 'initialMarking': True})\n",
    "transitions.append({'id': conditionID, 'sources': [], 'targets': [], 'split': 'condition', 'join': 'condition'})\n",
    "arcs.append({'id': str(i), 'source': conditionID, 'target': 'place_' + conditionID})\n",
    "\n",
    "i += 1\n",
    "\n",
    "for condition in yawl.conditions:\n",
    "    conditionID = condition.attrib['id']\n",
    "\n",
    "    places.append({'id': 'place_' + conditionID, 'initialMarking': False})\n",
    "    transitions.append({'id': conditionID, 'sources': [], 'targets': [], 'split': 'condition', 'join': 'condition'})\n",
    "    arcs.append({'id': str(i), 'source': conditionID, 'target': 'place_' + conditionID})\n",
    "    \n",
    "    i += 1\n",
    "    \n",
    "for task in yawl.tasks:\n",
    "    taskID = task.attrib['id']\n",
    "    places.append({'id': 'place_' + taskID, 'initialMarking': False})\n",
    "    taskJoin = task.find(xmlns + 'join').attrib['code']\n",
    "    taskSplit = task.find(xmlns + 'split').attrib['code']\n",
    "    transitions.append({'id': taskID, 'sources': [], 'targets': [], 'split': taskSplit, 'join': taskJoin})\n",
    "    arcs.append({'id': str(i), 'source': taskID, 'target': 'place_' + taskID})\n",
    "    \n",
    "    i += 1\n",
    "\n",
    "for outputCondition in yawl.outputConditions:\n",
    "    conditionID = outputCondition.attrib['id']\n",
    "\n",
    "    places.append({'id': 'place_' + conditionID, 'initialMarking': False})\n",
    "    transitions.append({'id': conditionID, 'sources': [], 'targets': [], 'split': 'condition', 'join': 'condition'})\n",
    "    arcs.append({'id': str(i), 'source': conditionID, 'target': 'place_' + conditionID})\n",
    "\n",
    "    i += 1\n",
    "\n",
    "#Get targets and sources\n",
    "for transition in transitions:\n",
    "    #Get transition's targets\n",
    "    for element in yawl.allElements:\n",
    "        if element.attrib['id'] == transition['id']:\n",
    "            break\n",
    "    elementFlowsIntos = element.findall(xmlns + 'flowsInto')\n",
    "    for elementFlowsInto in elementFlowsIntos:\n",
    "        nextElementRef = elementFlowsInto.find(xmlns + 'nextElementRef')\n",
    "        transition['targets'].append(nextElementRef.attrib['id'])\n",
    "\n",
    "    #Get transition's sources\n",
    "    for element in yawl.allElements:\n",
    "        elementFlowsIntos = element.findall(xmlns + 'flowsInto')\n",
    "        for elementFlowsInto in elementFlowsIntos:\n",
    "            nextElementRef = elementFlowsInto.find(xmlns + 'nextElementRef')\n",
    "            if nextElementRef.attrib['id'] == transition['id']:\n",
    "                transition['sources'].append(element.attrib['id'])\n",
    "#Connect arcs\n",
    "for transition in transitions:\n",
    "    if transition['split'] == 'condition':\n",
    "        for source in transition['sources']:\n",
    "            arcs.append({'id': str(i), 'source': 'place_' + source, 'target': transition['id']})\n",
    "            i += 1\n",
    "        for target in transition['targets']:\n",
    "            arcs.append({'id': str(i), 'source': 'place_' + transition['id'], 'target': target})\n",
    "            i += 1\n",
    "\n",
    "    if transition['split'] == 'xor':\n",
    "        for target in transition['targets']:\n",
    "            arcs.append({'id': str(i), 'source': 'place_' + transition['id'], 'target': target})\n",
    "            i += 1\n",
    "\n",
    "    if transition['split'] == 'and':\n",
    "        if len(transition['targets']) == 1:\n",
    "            for target in transition['targets']:\n",
    "                arcs.append({'id': str(i), 'source': 'place_' + transition['id'], 'target': target})\n",
    "                i += 1\n",
    "        else:\n",
    "            transitionName = transition['id'] + '_AndSplit'\n",
    "            bridgeTransition = {'id': transitionName, 'sources': transition['id'], 'targets': [], 'split': 'none', 'join': 'none'}\n",
    "            arcs.append({'id': str(i), 'source': 'place_' + transition['id'], 'target': transitionName})\n",
    "            i += 1\n",
    "            transitions.append(bridgeTransition)\n",
    "            for target in transition['targets']:\n",
    "                place = {'id': 'pre_' + target, 'initialMarking': False}\n",
    "                places.append(place)\n",
    "\n",
    "                arcs.append({'id': str(i), 'source': transitionName, 'target': place['id']})\n",
    "                i += 1\n",
    "                arcs.append({'id': str(i), 'source': place['id'], 'target': target})\n",
    "                i += 1\n",
    "\n",
    "\n",
    "    if transition['split'] == 'or':\n",
    "        nTransitions = 2 ** len(transition['targets']) - 1\n",
    "        #Add target pre-transitions\n",
    "        for target in transition['targets']:\n",
    "            places.append({'id': 'pre_' + target, 'initialMarking': False})\n",
    "            arcs.append({'id': str(i), 'source': 'pre_' + target, 'target': target})\n",
    "            i += 1\n",
    "        for j in range(nTransitions):\n",
    "            transitionName = transition['id'] + '_' + str(j)\n",
    "            \n",
    "            bridgeTransition = {'id': transitionName, 'sources': transition['id'], 'targets': [], 'split': 'none', 'join': 'none'}\n",
    "            arcs.append({'id': str(i), 'source': 'place_' + transition['id'], 'target': transitionName})\n",
    "\n",
    "            binary = bin(j + 1)[2:]\n",
    "            while len(binary) < len(transition['targets']):\n",
    "                binary = '0' + binary\n",
    "            k = 0\n",
    "            for char in binary:\n",
    "                if char == '1':\n",
    "                    arcs.append({'id': str(i), 'source': transitionName, 'target': 'pre_' + transition['targets'][k]})\n",
    "                    i += 1\n",
    "                    bridgeTransition['targets'].append(transition['targets'][k])\n",
    "\n",
    "                k += 1\n",
    "            transitions.append(bridgeTransition)\n",
    "        \n",
    "    # if transition['join'] == ''\n",
    "        \n",
    "\n",
    "\n",
    "#Delete output transitions\n",
    "# for transition in transitions:\n",
    "#     if transition['split'] == 'none' and len(transition['targets']) == 0:\n",
    "#         transitions.remove(transition)\n",
    "\n",
    "#Delete repeated arcs\n",
    "repeatedArcs = []\n",
    "arcsToIgnore = []\n",
    "for arc1 in arcs:\n",
    "    if arc1 not in arcsToIgnore:\n",
    "        arcsWithoutArc1 = arcs.copy()\n",
    "        arcsWithoutArc1.remove(arc1)\n",
    "        for arc2 in arcsWithoutArc1:\n",
    "            if arc1['source'] == arc2['source'] and arc1['target'] == arc2['target']:\n",
    "                repeatedArcs.append(arc2)\n",
    "                arcsToIgnore.append(arc2)\n",
    "for arc in repeatedArcs:\n",
    "    arcs.remove(arc)\n",
    "\n",
    "#Delete input transition\n",
    "for transition in transitions:\n",
    "    if transition['id'] == 'InputCondition':\n",
    "       transitions.remove(transition) \n",
    "for arc in arcs:\n",
    "    if 'InputCondition' == arc['source']:\n",
    "        arcs.remove(arc)\n",
    "\n",
    "pnml = Pnml(places, transitions, arcs)\n",
    "pnml.writePnml('credit-card-demo.xml')\n",
    "\n",
    "net, initial_marking, final_marking = pnml_importer.apply('credit-card-demo.xml')\n",
    "gviz = pn_visualizer.apply(net, initial_marking, final_marking)\n",
    "pn_visualizer.view(gviz)"
   ]
  },
  {
   "cell_type": "code",
   "execution_count": 64,
   "metadata": {},
   "outputs": [],
   "source": [
    "places = [{'id': 'start', 'initialMarking': True}, {'id': 'end', 'initialMarking': False}]\n",
    "transitions = [{\"id\": 'transicao'}]\n",
    "arcs = [{'id': '1', 'source': 'start', 'target': 'transicao'}, {'id':'2', 'source': 'transicao', 'target': 'end'}]\n",
    "\n",
    "pnml = Pnml(places, transitions, arcs)\n",
    "pnml.writePnml('petri.pnml')"
   ]
  },
  {
   "cell_type": "code",
   "execution_count": 70,
   "metadata": {},
   "outputs": [
    {
     "data": {
      "application/vnd.jupyter.widget-view+json": {
       "model_id": "d0c48d048e2c4a5db7249211bf4961e1",
       "version_major": 2,
       "version_minor": 0
      },
      "text/plain": [
       "HBox(children=(FloatProgress(value=0.0, description='parsing log, completed traces :: ', max=6.0, style=Progre…"
      ]
     },
     "metadata": {},
     "output_type": "display_data"
    },
    {
     "name": "stdout",
     "output_type": "stream",
     "text": [
      "\n"
     ]
    }
   ],
   "source": [
    "log = xes_importer.apply('running-example.xes')\n",
    "net, initial_marking, final_marking = alpha_miner.apply(log)\n",
    "pnml_exporter.apply(net, initial_marking, \"running-example.pnml\")"
   ]
  },
  {
   "cell_type": "code",
   "execution_count": 190,
   "metadata": {},
   "outputs": [
    {
     "output_type": "display_data",
     "data": {
      "image/png": "[encoded data removed]",
      "text/plain": "<IPython.core.display.Image object>"
     },
     "metadata": {}
    }
   ],
   "source": [
    "net, initial_marking, final_marking = pnml_importer.apply('inhibitor-demo.xml')\n",
    "gviz = pn_visualizer.apply(net, initial_marking, final_marking)\n",
    "pn_visualizer.view(gviz)"
   ]
  },
  {
   "cell_type": "code",
   "execution_count": 61,
   "metadata": {},
   "outputs": [
    {
     "data": {
      "image/png": "[encoded data removed]",
      "text/plain": [
       "<IPython.core.display.Image object>"
      ]
     },
     "metadata": {},
     "output_type": "display_data"
    }
   ],
   "source": [
    "gviz = pn_visualizer.apply(net, initial_marking, final_marking)\n",
    "pn_visualizer.view(gviz)"
   ]
  },
  {
   "cell_type": "code",
   "execution_count": 60,
   "metadata": {},
   "outputs": [],
   "source": [
    "net, initial_marking, final_marking = pnml_importer.apply('petri.pnml')"
   ]
  },
  {
   "cell_type": "code",
   "execution_count": 63,
   "metadata": {},
   "outputs": [],
   "source": [
    "pnml_exporter.apply(net, initial_marking, \"petri.pnml\")"
   ]
  }
 ],
 "metadata": {
  "kernelspec": {
   "name": "Python 3.8.2 64-bit",
   "display_name": "Python 3.8.2 64-bit",
   "metadata": {
    "interpreter": {
     "hash": "31f2aee4e71d21fbe5cf8b01ff0e069b9275f58929596ceb00d14d90e3e16cd6"
    }
   }
  },
  "language_info": {
   "codemirror_mode": {
    "name": "ipython",
    "version": 3
   },
   "file_extension": ".py",
   "mimetype": "text/x-python",
   "name": "python",
   "nbconvert_exporter": "python",
   "pygments_lexer": "ipython3",
   "version": "3.8.2-final"
  }
 },
 "nbformat": 4,
 "nbformat_minor": 4
}